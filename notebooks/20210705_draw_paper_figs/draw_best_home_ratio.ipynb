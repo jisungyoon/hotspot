{
 "cells": [
  {
   "cell_type": "code",
   "execution_count": 1,
   "metadata": {},
   "outputs": [],
   "source": [
    "from collections import defaultdict\n",
    "\n",
    "import numpy as np\n",
    "import pandas as pd\n",
    "from scipy.spatial.distance import jensenshannon"
   ]
  },
  {
   "cell_type": "code",
   "execution_count": 2,
   "metadata": {},
   "outputs": [],
   "source": [
    "p = 0.84\n",
    "k = 2.15\n",
    "gamma = 1.42"
   ]
  },
  {
   "cell_type": "code",
   "execution_count": 3,
   "metadata": {},
   "outputs": [],
   "source": [
    "home_pdf = pd.read_pickle('../../data/derived/before/home_pdf.pkl')\n",
    "sequence_length = np.load('../../data/derived/before/sequence_length.npy', allow_pickle=True)"
   ]
  },
  {
   "cell_type": "code",
   "execution_count": 4,
   "metadata": {},
   "outputs": [],
   "source": [
    "grid_to_hotspot_level = pd.read_pickle('../../data/derived/before/hotspot_level_by_grid.pkl')\n",
    "hotspot_level_to_grid = defaultdict(list)\n",
    "for k_, v_ in grid_to_hotspot_level.items():\n",
    "    hotspot_level_to_grid[v_].append(k_)"
   ]
  },
  {
   "cell_type": "code",
   "execution_count": 5,
   "metadata": {},
   "outputs": [],
   "source": [
    "homes = list(home_pdf.keys())\n",
    "homes_p = [home_pdf[home] for home in homes]"
   ]
  },
  {
   "cell_type": "code",
   "execution_count": 6,
   "metadata": {},
   "outputs": [],
   "source": [
    "d = pd.read_pickle('../../data/derived/before/distance.pkl')"
   ]
  },
  {
   "cell_type": "code",
   "execution_count": 7,
   "metadata": {},
   "outputs": [],
   "source": [
    "from collections import Counter, defaultdict\n",
    "\n",
    "import numpy as np\n",
    "from scipy.stats import entropy\n",
    "\n",
    "def generate_sequence(\n",
    "    p, gamma, k, generated_homes, sequence_length, hotspot_level_to_grid, d,\n",
    "):\n",
    "    distribution = np.array([1 / np.power(i + 1, k) for i in range(10)])\n",
    "    distribution /= sum(distribution)\n",
    "\n",
    "    generated_sequences = []\n",
    "    for home, length in zip(generated_homes, sequence_length):\n",
    "        next_grids = [home]\n",
    "        for i in range(length - 1):\n",
    "            if np.random.random() < 1 - np.power(p,1 + i):\n",
    "                next_grid = np.random.choice(next_grids)\n",
    "            else:\n",
    "                level = np.random.choice(np.arange(10), p=distribution) + 1\n",
    "                c = Counter(next_grids)\n",
    "                m = max(c.values())\n",
    "                home = np.random.choice([key for key in c if c[key] == m])\n",
    "                next_grid = get_next_grid(home, gamma, d, hotspot_level_to_grid[level])\n",
    "            next_grids.append(next_grid)\n",
    "        generated_sequences.append(next_grids)\n",
    "\n",
    "    return generated_sequences\n",
    "\n",
    "def get_next_grid(home, gamma, d, target_grids):\n",
    "    target_grids = [spot for spot in target_grids if spot != home]\n",
    "    weight = np.array([1 / np.power(d[home][spot], gamma) for spot in target_grids])\n",
    "    weight = weight / sum(weight)\n",
    "\n",
    "    return target_grids[np.random.choice(np.arange(len(target_grids)), p=weight)]"
   ]
  },
  {
   "cell_type": "code",
   "execution_count": 8,
   "metadata": {},
   "outputs": [],
   "source": [
    "generated_homes_idx = np.random.choice(\n",
    "        np.arange(len(homes)), size=len(sequence_length), replace=True, p=homes_p\n",
    ")"
   ]
  },
  {
   "cell_type": "code",
   "execution_count": 9,
   "metadata": {},
   "outputs": [],
   "source": [
    "generated_homes = [homes[idx] for idx in generated_homes_idx]"
   ]
  },
  {
   "cell_type": "code",
   "execution_count": 10,
   "metadata": {},
   "outputs": [],
   "source": [
    "generated_sequences =  generate_sequence(\n",
    "        p, gamma, k, generated_homes, sequence_length, hotspot_level_to_grid, d,\n",
    ")"
   ]
  },
  {
   "cell_type": "code",
   "execution_count": 23,
   "metadata": {},
   "outputs": [],
   "source": [
    "from collections import Counter, defaultdict\n",
    "\n",
    "home_list = []\n",
    "ratio_list = []\n",
    "for row in generated_sequences:\n",
    "    counter_dict = dict(Counter(row))\n",
    "    max_val = max(counter_dict.values())\n",
    "    max_keys = [k for k, v in counter_dict.items() if v == max_val]\n",
    "    home = max_keys[np.random.choice(len(max_keys))]\n",
    "    home_list.append(home)\n",
    "    ratio_list.append(max_val/len(row))\n"
   ]
  },
  {
   "cell_type": "code",
   "execution_count": 24,
   "metadata": {},
   "outputs": [],
   "source": [
    "length_list = np.array(list(map(len, generated_sequences)))"
   ]
  },
  {
   "cell_type": "code",
   "execution_count": 25,
   "metadata": {},
   "outputs": [],
   "source": [
    "ratio_list = np.array(ratio_list)"
   ]
  },
  {
   "cell_type": "code",
   "execution_count": 16,
   "metadata": {},
   "outputs": [
    {
     "name": "stderr",
     "output_type": "stream",
     "text": [
      "/home/balla/anaconda3/lib/python3.7/site-packages/ipykernel_launcher.py:3: VisibleDeprecationWarning: Creating an ndarray from ragged nested sequences (which is a list-or-tuple of lists-or-tuples-or ndarrays with different lengths or shapes) is deprecated. If you meant to do this, you must specify 'dtype=object' when creating the ndarray\n",
      "  This is separate from the ipykernel package so we can avoid doing imports until\n"
     ]
    }
   ],
   "source": [
    "sequences = np.load('../../data/derived/before/sequence.npy', allow_pickle=True)\n",
    "vendor_to_grid = pd.read_pickle('../../data/derived/before/vendor_to_grid.pkl')\n",
    "sequences = np.array([list(map(vendor_to_grid.get, row)) for row in sequences])"
   ]
  },
  {
   "cell_type": "code",
   "execution_count": 18,
   "metadata": {},
   "outputs": [],
   "source": [
    "from collections import Counter, defaultdict\n",
    "length_list_data = []\n",
    "ratio_list_data = []\n",
    "for row in sequences:\n",
    "    counter_dict = dict(Counter(row))\n",
    "    max_val = max(counter_dict.values())\n",
    "    max_keys = [k for k, v in counter_dict.items() if v == max_val]\n",
    "    home = max_keys[np.random.choice(len(max_keys))]\n",
    "    ratio_list_data.append(max_val/len(row))\n",
    "    length_list_data.append(len(row))\n"
   ]
  },
  {
   "cell_type": "code",
   "execution_count": 20,
   "metadata": {},
   "outputs": [
    {
     "data": {
      "text/plain": [
       "202525"
      ]
     },
     "execution_count": 20,
     "metadata": {},
     "output_type": "execute_result"
    }
   ],
   "source": [
    "len(ratio_list_data,)"
   ]
  },
  {
   "cell_type": "code",
   "execution_count": 21,
   "metadata": {},
   "outputs": [
    {
     "data": {
      "text/plain": [
       "202525"
      ]
     },
     "execution_count": 21,
     "metadata": {},
     "output_type": "execute_result"
    }
   ],
   "source": [
    "len(length_list_data)"
   ]
  },
  {
   "cell_type": "code",
   "execution_count": null,
   "metadata": {},
   "outputs": [],
   "source": []
  },
  {
   "cell_type": "code",
   "execution_count": 14,
   "metadata": {},
   "outputs": [],
   "source": [
    "from matplotlib import cm, figure, font_manager\n",
    "\n",
    "INPUT_FONT_FILE = '../../assets/Helvetica.ttf'\n",
    "prop = font_manager.FontProperties(fname=INPUT_FONT_FILE, size=22)\n",
    "small_prop = font_manager.FontProperties(fname=INPUT_FONT_FILE, size=18)"
   ]
  },
  {
   "cell_type": "code",
   "execution_count": 27,
   "metadata": {},
   "outputs": [
    {
     "data": {
      "image/png": "[encoded data removed]",
      "text/plain": [
       "<Figure size 432x288 with 1 Axes>"
      ]
     },
     "metadata": {
      "needs_background": "light"
     },
     "output_type": "display_data"
    }
   ],
   "source": [
    "import seaborn as sns\n",
    "import matplotlib.pyplot as plt\n",
    "df = pd.DataFrame({\n",
    "    'ratio': ratio_list,\n",
    "    'length': length_list\n",
    "})\n",
    "df_ = pd.DataFrame({\n",
    "    'ratio': ratio_list_data,\n",
    "    'length': length_list_data\n",
    "})\n",
    "ax = sns.lineplot(x=\"length\", y=\"ratio\",\n",
    "             data=df_,  color='cornflowerblue', label='data')\n",
    "ax = sns.lineplot(x=\"length\", y=\"ratio\",\n",
    "             data=df, label='simulation', color='darkorange',)\n",
    "for label in ax.get_yticklabels():\n",
    "    label.set_fontproperties(small_prop)\n",
    "for label in ax.get_xticklabels():\n",
    "     label.set_fontproperties(small_prop)\n",
    "ax.set_xlabel(r'$L$', fontproperties=prop)\n",
    "ax.set_ylabel('Home ratio',fontproperties=prop)\n",
    "ax.set_xlim([0,100])\n",
    "ax.set_ylim([0,1])\n",
    "ax.spines['right'].set_visible(False)\n",
    "ax.spines['top'].set_visible(False)\n",
    "plt.legend(fontsize=18, frameon=False)\n",
    "plt.savefig('figs/home_ratio_best.pdf', bbox_inches='tight')"
   ]
  },
  {
   "cell_type": "code",
   "execution_count": null,
   "metadata": {},
   "outputs": [],
   "source": []
  }
 ],
 "metadata": {
  "kernelspec": {
   "display_name": "Python 3",
   "language": "python",
   "name": "python3"
  },
  "language_info": {
   "codemirror_mode": {
    "name": "ipython",
    "version": 3
   },
   "file_extension": ".py",
   "mimetype": "text/x-python",
   "name": "python",
   "nbconvert_exporter": "python",
   "pygments_lexer": "ipython3",
   "version": "3.7.4"
  }
 },
 "nbformat": 4,
 "nbformat_minor": 4
}
